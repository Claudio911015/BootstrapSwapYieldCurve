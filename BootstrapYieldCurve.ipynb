{
 "cells": [
  {
   "cell_type": "code",
   "execution_count": 152,
   "metadata": {
    "collapsed": false
   },
   "outputs": [],
   "source": [
    "#This notebook is split into two parts.\n",
    "\n",
    "#PART 1 uploads market data for interest rate (can easily change to overnight index swaps)\n",
    "#from Bloomberg's API, using Brian Smith's beautiful TIA wrapper (https://github.com/bpsmith/tia),\n",
    "#which converts the data into a panda dataframe.\n",
    "#Data feed can replaced with a different provider, or skipped with instruments keyed manually in PART 2.\n",
    "\n",
    "#If you have no data source, you can go directly to PART 2, keying data manually.  \n",
    "\n",
    "##### PART 1 of 2 ######\n",
    "\n",
    "#for BLPAPI to work, copy blpapi folder into your Python Anaconda directory.\n",
    "#mine is  C:\\Users\\cp85vc\\AppData\\Local\\Continuum\\Anaconda3\\lib\\site-packages\\ \n",
    "\n",
    "#Make SURE it includes the blpapi3_64.dll from Bloomberg's installer directory: C:\\blp\\API\\APIv3\\C++API\\v3.8.13.1\\lib\n",
    "#then go to Start, type PATH\n",
    "#add as VariableValue:\n",
    "#C:\\Users\\cp85vc\\AppData\\Local\\Continuum\\Anaconda3\\Lib\\site-packages\\blpapi '''\n",
    "\n",
    "import blpapi #to retrieve real time market data from Bloomberg\n",
    "from tia.bbg import LocalTerminal  #to have the data from Bloomberg in a presentable, dataframe table fashion\n",
    "import pandas as pd #to access dataframes\n",
    "import numpy as np #to interpolate missing market data points, like 16year or 23year swaps\n",
    "import matplotlib.pylab as plt # to plot graphs\n",
    "\n",
    "import datetime  \n",
    "today = pd.datetime.today()"
   ]
  },
  {
   "cell_type": "code",
   "execution_count": 153,
   "metadata": {
    "collapsed": false
   },
   "outputs": [],
   "source": [
    "#like with BLPAPI, download the TIA package from GitHub and paste in the directory:\n",
    "#C:\\Users\\cp85vc\\AppData\\Local\\Continuum\\Anaconda3\\Lib\\site-packages\\tia\n",
    "\n",
    "#There was a NameError when calling 'resp', 'basestring' not defined\n",
    "#from C:\\Users\\cp85vc\\AppData\\Local\\Continuum\\Anaconda3\\lib\\site-packages\\tia\\bbg\\v3api.py \n",
    "\n",
    "#So had to change all them to 'str', close-re-open and then it worked :)\n",
    "\n",
    "#Examples :  http://nbviewer.jupyter.org/github/bpsmith/tia/blob/master/examples/v3api.ipynb '''"
   ]
  },
  {
   "cell_type": "code",
   "execution_count": 160,
   "metadata": {
    "collapsed": false
   },
   "outputs": [
    {
     "data": {
      "text/html": [
       "<div>\n",
       "<table border=\"1\" class=\"dataframe\">\n",
       "  <thead>\n",
       "    <tr>\n",
       "      <th></th>\n",
       "      <th>USSA8 Curncy</th>\n",
       "      <th>USSA20 Curncy</th>\n",
       "      <th>USSA5 Curncy</th>\n",
       "      <th>USSA2 Curncy</th>\n",
       "      <th>USSA15 Curncy</th>\n",
       "      <th>USSA9 Curncy</th>\n",
       "      <th>USSA7 Curncy</th>\n",
       "      <th>USSA4 Curncy</th>\n",
       "      <th>USSA25 Curncy</th>\n",
       "      <th>USSA6 Curncy</th>\n",
       "      <th>USSA30 Curncy</th>\n",
       "      <th>USSA10 Curncy</th>\n",
       "      <th>USSA1 Curncy</th>\n",
       "      <th>USSA12 Curncy</th>\n",
       "      <th>USSA11 Curncy</th>\n",
       "      <th>USSA3 Curncy</th>\n",
       "    </tr>\n",
       "    <tr>\n",
       "      <th></th>\n",
       "      <th>PX_LAST</th>\n",
       "      <th>PX_LAST</th>\n",
       "      <th>PX_LAST</th>\n",
       "      <th>PX_LAST</th>\n",
       "      <th>PX_LAST</th>\n",
       "      <th>PX_LAST</th>\n",
       "      <th>PX_LAST</th>\n",
       "      <th>PX_LAST</th>\n",
       "      <th>PX_LAST</th>\n",
       "      <th>PX_LAST</th>\n",
       "      <th>PX_LAST</th>\n",
       "      <th>PX_LAST</th>\n",
       "      <th>PX_LAST</th>\n",
       "      <th>PX_LAST</th>\n",
       "      <th>PX_LAST</th>\n",
       "      <th>PX_LAST</th>\n",
       "    </tr>\n",
       "    <tr>\n",
       "      <th>date</th>\n",
       "      <th></th>\n",
       "      <th></th>\n",
       "      <th></th>\n",
       "      <th></th>\n",
       "      <th></th>\n",
       "      <th></th>\n",
       "      <th></th>\n",
       "      <th></th>\n",
       "      <th></th>\n",
       "      <th></th>\n",
       "      <th></th>\n",
       "      <th></th>\n",
       "      <th></th>\n",
       "      <th></th>\n",
       "      <th></th>\n",
       "      <th></th>\n",
       "    </tr>\n",
       "  </thead>\n",
       "  <tbody>\n",
       "    <tr>\n",
       "      <th>2017-11-07</th>\n",
       "      <td>2.1977</td>\n",
       "      <td>2.4749</td>\n",
       "      <td>2.0445</td>\n",
       "      <td>1.8141</td>\n",
       "      <td>2.4116</td>\n",
       "      <td>2.2395</td>\n",
       "      <td>2.1498</td>\n",
       "      <td>1.9858</td>\n",
       "      <td>2.4999</td>\n",
       "      <td>2.0997</td>\n",
       "      <td>2.5051</td>\n",
       "      <td>2.277</td>\n",
       "      <td>1.649</td>\n",
       "      <td>2.3445</td>\n",
       "      <td>2.317</td>\n",
       "      <td>1.9138</td>\n",
       "    </tr>\n",
       "  </tbody>\n",
       "</table>\n",
       "</div>"
      ],
      "text/plain": [
       "           USSA8 Curncy USSA20 Curncy USSA5 Curncy USSA2 Curncy USSA15 Curncy  \\\n",
       "                PX_LAST       PX_LAST      PX_LAST      PX_LAST       PX_LAST   \n",
       "date                                                                            \n",
       "2017-11-07       2.1977        2.4749       2.0445       1.8141        2.4116   \n",
       "\n",
       "           USSA9 Curncy USSA7 Curncy USSA4 Curncy USSA25 Curncy USSA6 Curncy  \\\n",
       "                PX_LAST      PX_LAST      PX_LAST       PX_LAST      PX_LAST   \n",
       "date                                                                           \n",
       "2017-11-07       2.2395       2.1498       1.9858        2.4999       2.0997   \n",
       "\n",
       "           USSA30 Curncy USSA10 Curncy USSA1 Curncy USSA12 Curncy  \\\n",
       "                 PX_LAST       PX_LAST      PX_LAST       PX_LAST   \n",
       "date                                                                \n",
       "2017-11-07        2.5051         2.277        1.649        2.3445   \n",
       "\n",
       "           USSA11 Curncy USSA3 Curncy  \n",
       "                 PX_LAST      PX_LAST  \n",
       "date                                   \n",
       "2017-11-07         2.317       1.9138  "
      ]
     },
     "execution_count": 160,
     "metadata": {},
     "output_type": "execute_result"
    }
   ],
   "source": [
    "#import USD IRS swaps from 1y to 30yrs and save into a panda dataframe\n",
    "df = LocalTerminal.get_historical(['USSA1 Curncy','USSA2 Curncy', 'USSA3 Curncy',\\\n",
    "                                      'USSA4 Curncy', 'USSA5 Curncy', 'USSA6 Curncy', \\\n",
    "                                      'USSA7 Curncy', 'USSA8 Curncy', 'USSA9 Curncy', \\\n",
    "                                      'USSA10 Curncy','USSA11 Curncy', 'USSA12 Curncy',\\\n",
    "                                     'USSA15 Curncy', 'USSA20 Curncy',\\\n",
    "                                    'USSA25 Curncy', 'USSA30 Curncy'],'PX_LAST', \\\n",
    "                                    start= today, end= today, period = 'DAILY')\n",
    "USSA = df.as_frame().tail()\n",
    "USSA #this is a multi index dataframe with: 'USSA_year Currency' and 'PX_LAST' as indeces.  "
   ]
  },
  {
   "cell_type": "code",
   "execution_count": 161,
   "metadata": {
    "collapsed": false
   },
   "outputs": [
    {
     "data": {
      "text/html": [
       "<div>\n",
       "<table border=\"1\" class=\"dataframe\">\n",
       "  <thead>\n",
       "    <tr style=\"text-align: right;\">\n",
       "      <th></th>\n",
       "      <th>USSA8 Curncy</th>\n",
       "      <th>USSA20 Curncy</th>\n",
       "      <th>USSA5 Curncy</th>\n",
       "      <th>USSA2 Curncy</th>\n",
       "      <th>USSA15 Curncy</th>\n",
       "      <th>USSA9 Curncy</th>\n",
       "      <th>USSA7 Curncy</th>\n",
       "      <th>USSA4 Curncy</th>\n",
       "      <th>USSA25 Curncy</th>\n",
       "      <th>USSA6 Curncy</th>\n",
       "      <th>USSA30 Curncy</th>\n",
       "      <th>USSA10 Curncy</th>\n",
       "      <th>USSA1 Curncy</th>\n",
       "      <th>USSA12 Curncy</th>\n",
       "      <th>USSA11 Curncy</th>\n",
       "      <th>USSA3 Curncy</th>\n",
       "    </tr>\n",
       "    <tr>\n",
       "      <th>date</th>\n",
       "      <th></th>\n",
       "      <th></th>\n",
       "      <th></th>\n",
       "      <th></th>\n",
       "      <th></th>\n",
       "      <th></th>\n",
       "      <th></th>\n",
       "      <th></th>\n",
       "      <th></th>\n",
       "      <th></th>\n",
       "      <th></th>\n",
       "      <th></th>\n",
       "      <th></th>\n",
       "      <th></th>\n",
       "      <th></th>\n",
       "      <th></th>\n",
       "    </tr>\n",
       "  </thead>\n",
       "  <tbody>\n",
       "    <tr>\n",
       "      <th>2017-11-07</th>\n",
       "      <td>2.1977</td>\n",
       "      <td>2.4749</td>\n",
       "      <td>2.0445</td>\n",
       "      <td>1.8141</td>\n",
       "      <td>2.4116</td>\n",
       "      <td>2.2395</td>\n",
       "      <td>2.1498</td>\n",
       "      <td>1.9858</td>\n",
       "      <td>2.4999</td>\n",
       "      <td>2.0997</td>\n",
       "      <td>2.5051</td>\n",
       "      <td>2.277</td>\n",
       "      <td>1.649</td>\n",
       "      <td>2.3445</td>\n",
       "      <td>2.317</td>\n",
       "      <td>1.9138</td>\n",
       "    </tr>\n",
       "  </tbody>\n",
       "</table>\n",
       "</div>"
      ],
      "text/plain": [
       "            USSA8 Curncy  USSA20 Curncy  USSA5 Curncy  USSA2 Curncy  \\\n",
       "date                                                                  \n",
       "2017-11-07        2.1977         2.4749        2.0445        1.8141   \n",
       "\n",
       "            USSA15 Curncy  USSA9 Curncy  USSA7 Curncy  USSA4 Curncy  \\\n",
       "date                                                                  \n",
       "2017-11-07         2.4116        2.2395        2.1498        1.9858   \n",
       "\n",
       "            USSA25 Curncy  USSA6 Curncy  USSA30 Curncy  USSA10 Curncy  \\\n",
       "date                                                                    \n",
       "2017-11-07         2.4999        2.0997         2.5051          2.277   \n",
       "\n",
       "            USSA1 Curncy  USSA12 Curncy  USSA11 Curncy  USSA3 Curncy  \n",
       "date                                                                  \n",
       "2017-11-07         1.649         2.3445          2.317        1.9138  "
      ]
     },
     "execution_count": 161,
     "metadata": {},
     "output_type": "execute_result"
    }
   ],
   "source": [
    "#remove the \"PX_LAST\" index\n",
    "USSA.columns = USSA.columns.get_level_values(0)\n",
    "USSA"
   ]
  },
  {
   "cell_type": "code",
   "execution_count": 162,
   "metadata": {
    "collapsed": false
   },
   "outputs": [
    {
     "data": {
      "text/html": [
       "<div>\n",
       "<table border=\"1\" class=\"dataframe\">\n",
       "  <thead>\n",
       "    <tr style=\"text-align: right;\">\n",
       "      <th></th>\n",
       "      <th>USSA8</th>\n",
       "      <th>USSA20</th>\n",
       "      <th>USSA5</th>\n",
       "      <th>USSA2</th>\n",
       "      <th>USSA15</th>\n",
       "      <th>USSA9</th>\n",
       "      <th>USSA7</th>\n",
       "      <th>USSA4</th>\n",
       "      <th>USSA25</th>\n",
       "      <th>USSA6</th>\n",
       "      <th>USSA30</th>\n",
       "      <th>USSA10</th>\n",
       "      <th>USSA1</th>\n",
       "      <th>USSA12</th>\n",
       "      <th>USSA11</th>\n",
       "      <th>USSA3</th>\n",
       "    </tr>\n",
       "    <tr>\n",
       "      <th>date</th>\n",
       "      <th></th>\n",
       "      <th></th>\n",
       "      <th></th>\n",
       "      <th></th>\n",
       "      <th></th>\n",
       "      <th></th>\n",
       "      <th></th>\n",
       "      <th></th>\n",
       "      <th></th>\n",
       "      <th></th>\n",
       "      <th></th>\n",
       "      <th></th>\n",
       "      <th></th>\n",
       "      <th></th>\n",
       "      <th></th>\n",
       "      <th></th>\n",
       "    </tr>\n",
       "  </thead>\n",
       "  <tbody>\n",
       "    <tr>\n",
       "      <th>2017-11-07</th>\n",
       "      <td>2.1977</td>\n",
       "      <td>2.4749</td>\n",
       "      <td>2.0445</td>\n",
       "      <td>1.8141</td>\n",
       "      <td>2.4116</td>\n",
       "      <td>2.2395</td>\n",
       "      <td>2.1498</td>\n",
       "      <td>1.9858</td>\n",
       "      <td>2.4999</td>\n",
       "      <td>2.0997</td>\n",
       "      <td>2.5051</td>\n",
       "      <td>2.277</td>\n",
       "      <td>1.649</td>\n",
       "      <td>2.3445</td>\n",
       "      <td>2.317</td>\n",
       "      <td>1.9138</td>\n",
       "    </tr>\n",
       "  </tbody>\n",
       "</table>\n",
       "</div>"
      ],
      "text/plain": [
       "            USSA8   USSA20   USSA5   USSA2   USSA15   USSA9   USSA7   USSA4   \\\n",
       "date                                                                           \n",
       "2017-11-07  2.1977   2.4749  2.0445  1.8141   2.4116  2.2395  2.1498  1.9858   \n",
       "\n",
       "            USSA25   USSA6   USSA30   USSA10   USSA1   USSA12   USSA11   \\\n",
       "date                                                                      \n",
       "2017-11-07   2.4999  2.0997   2.5051    2.277   1.649   2.3445    2.317   \n",
       "\n",
       "            USSA3   \n",
       "date                \n",
       "2017-11-07  1.9138  "
      ]
     },
     "execution_count": 162,
     "metadata": {},
     "output_type": "execute_result"
    }
   ],
   "source": [
    "#the columns are in a weird order. So we relabel them dropping the \"Curncy\" suffix, which is 6 letters, \n",
    "#so that we can sort them\n",
    "USSA = USSA.rename(columns = lambda x : str(x)[:-6]) \n",
    "#this iterates through the columns and apply some function.\n",
    "#In this case, the function converts something into a string and takes everything up until the last 6 characters, ie the \"Curncy\"\n",
    "USSA"
   ]
  },
  {
   "cell_type": "code",
   "execution_count": 163,
   "metadata": {
    "collapsed": false
   },
   "outputs": [
    {
     "data": {
      "text/html": [
       "<div>\n",
       "<table border=\"1\" class=\"dataframe\">\n",
       "  <thead>\n",
       "    <tr style=\"text-align: right;\">\n",
       "      <th></th>\n",
       "      <th>USSA1</th>\n",
       "      <th>USSA2</th>\n",
       "      <th>USSA3</th>\n",
       "      <th>USSA4</th>\n",
       "      <th>USSA5</th>\n",
       "      <th>USSA6</th>\n",
       "      <th>USSA7</th>\n",
       "      <th>USSA8</th>\n",
       "      <th>USSA9</th>\n",
       "      <th>USSA10</th>\n",
       "      <th>USSA11</th>\n",
       "      <th>USSA12</th>\n",
       "      <th>USSA15</th>\n",
       "      <th>USSA20</th>\n",
       "      <th>USSA25</th>\n",
       "      <th>USSA30</th>\n",
       "    </tr>\n",
       "    <tr>\n",
       "      <th>date</th>\n",
       "      <th></th>\n",
       "      <th></th>\n",
       "      <th></th>\n",
       "      <th></th>\n",
       "      <th></th>\n",
       "      <th></th>\n",
       "      <th></th>\n",
       "      <th></th>\n",
       "      <th></th>\n",
       "      <th></th>\n",
       "      <th></th>\n",
       "      <th></th>\n",
       "      <th></th>\n",
       "      <th></th>\n",
       "      <th></th>\n",
       "      <th></th>\n",
       "    </tr>\n",
       "  </thead>\n",
       "  <tbody>\n",
       "    <tr>\n",
       "      <th>2017-11-07</th>\n",
       "      <td>0.01649</td>\n",
       "      <td>0.018141</td>\n",
       "      <td>0.019138</td>\n",
       "      <td>0.019858</td>\n",
       "      <td>0.020445</td>\n",
       "      <td>0.020997</td>\n",
       "      <td>0.021498</td>\n",
       "      <td>0.021977</td>\n",
       "      <td>0.022395</td>\n",
       "      <td>0.02277</td>\n",
       "      <td>0.02317</td>\n",
       "      <td>0.023445</td>\n",
       "      <td>0.024116</td>\n",
       "      <td>0.024749</td>\n",
       "      <td>0.024999</td>\n",
       "      <td>0.025051</td>\n",
       "    </tr>\n",
       "  </tbody>\n",
       "</table>\n",
       "</div>"
      ],
      "text/plain": [
       "             USSA1     USSA2     USSA3     USSA4     USSA5     USSA6   \\\n",
       "date                                                                    \n",
       "2017-11-07  0.01649  0.018141  0.019138  0.019858  0.020445  0.020997   \n",
       "\n",
       "              USSA7     USSA8     USSA9   USSA10   USSA11    USSA12   \\\n",
       "date                                                                   \n",
       "2017-11-07  0.021498  0.021977  0.022395  0.02277  0.02317  0.023445   \n",
       "\n",
       "             USSA15    USSA20    USSA25    USSA30   \n",
       "date                                                \n",
       "2017-11-07  0.024116  0.024749  0.024999  0.025051  "
      ]
     },
     "execution_count": 163,
     "metadata": {},
     "output_type": "execute_result"
    }
   ],
   "source": [
    "#..sort them and  divide by 100 as BBG data is 1.605%\n",
    "USSA = USSA.reindex_axis(sorted(USSA.columns, key = lambda x: float(x[4: ])),axis = 1).divide(100, axis = 'columns')\n",
    "USSA"
   ]
  },
  {
   "cell_type": "code",
   "execution_count": 190,
   "metadata": {
    "collapsed": false
   },
   "outputs": [],
   "source": [
    "#want to graph yield curve?\n",
    "transp = USSA.transpose()  #first transpose, so that years are horizontal and yields vertical\n",
    "transp.plot(color = 'blue')\n",
    "\n",
    "plt.title('USSA Curve')\n",
    "plt.xlabel('Years')\n",
    "plt.ylabel('US Swaps')\n",
    "\n",
    "#set limits\n",
    "plt.xlim(0,16)\n",
    "plt.ylim(0, 0.04)\n",
    "\n",
    "plt.grid('on')\n",
    "plt.show()"
   ]
  },
  {
   "cell_type": "code",
   "execution_count": 165,
   "metadata": {
    "collapsed": false
   },
   "outputs": [
    {
     "data": {
      "text/plain": [
       "(0.016490000000000001,\n",
       " 0.018141000000000001,\n",
       " 0.019137999999999999,\n",
       " 0.019858000000000001,\n",
       " 0.020445000000000001)"
      ]
     },
     "execution_count": 165,
     "metadata": {},
     "output_type": "execute_result"
    }
   ],
   "source": [
    "#sanity check\n",
    "USSA.iloc[0,0], USSA.iloc[0, 1], USSA.iloc[0, 2], USSA.iloc[0, 3], USSA.iloc[0, 4]"
   ]
  },
  {
   "cell_type": "code",
   "execution_count": 166,
   "metadata": {
    "collapsed": false
   },
   "outputs": [],
   "source": [
    "#####PART 2 of 2######\n",
    "\n",
    "'''implementation of \"forward_substitution\" from https://en.wikipedia.org/wiki/Bootstrapping_(finance)\n",
    "Namely extracting discount_factors from market traded yield_curve_instruments, which are futures and deposits up to 1year,\n",
    "and interest (IRS) or overnight indexed swaps (OIS) from 1year onwards.  \n",
    "\n",
    "Key concept on a fixed IRs: fair value is 0 at start, via no-arbitrage argument, assuming a notional of $1. Thus:\n",
    "\n",
    "1year_IRS:  disc_factor1* ($1 + coup_1 * act/360) = $1   \n",
    "2year_IRS:  disc_factor1 * coup_2 + disc_factor2*($1 + coup_2 * act/360) = $1\n",
    "3year_IRS:  disc_factor1 * coup_3 + disc_factor2 * coup3 + disc_factor3 * ($1 + coup_3) = $1\n",
    "\n",
    "\n",
    "Variation of Chapter5 from James WeiMing Ma \"Mastering Python For Finance\"   '''\n",
    "\n",
    "import math\n",
    "\n",
    "class GetDiscFactors(object):\n",
    "   \n",
    "    def __init__(self):\n",
    "        \n",
    "        self.instr = {}  #populated using add_instr() method\n",
    "        self.disc_factors = {}\n",
    "        self.zero_rates = {}\n",
    "       \n",
    "    def add_instr(self, par , T, coup, price , freq = 1): \n",
    "        \n",
    "        #par and price only relevant for eurodollar futures, on IRS or OIS = $1 for both\n",
    "       \n",
    "        self.instr[T] = (par, coup, price, freq)\n",
    "       \n",
    "        '''dictionary with keys: T years grouping of tuples for vals:\n",
    "            {0.25: (1, 0.0, 0.9849, 1),\n",
    "             0.5: (1, 0.0, 0.9837, 1),\n",
    "             1: (1, 0.013855, 1, 1),\n",
    "             2: (1, 0.015271, 1, 1),\n",
    "             3: (1, 0.01622, 1, 1)}\n",
    "             and so forth'''\n",
    "   \n",
    "    def sort_instr(self):\n",
    "       \n",
    "        sort_dict = sorted(self.instr.keys())\n",
    "        return sort_dict\n",
    "    \n",
    "    def get_df(self):\n",
    "        #uses 2 helper methods below\n",
    "        self.__get_shortdated_df__()\n",
    "        self.__get_longdated_df__()\n",
    "        return [self.disc_factors[i] for i in self.sort_instr()] #without this, get_df does not return anything.\n",
    "        #you can still access disc_factors by calling rateObject.disc_factors\n",
    "   \n",
    "    def __get_shortdated_df__(self):\n",
    "        \n",
    "        '''Say eurodolly future price is 98.46 and there are 62days to next IMM date.\n",
    "        thus yield is 100% - 98.46% = 1.54% p.a., thus disc_factor will be 1/(1+1.54%*62/360)  '''\n",
    "        \n",
    "        for T in self.instr:\n",
    "           \n",
    "            (par, coup, price, freq) = self.instr[T]  #without this: NameError: name 'coup' is not defined\n",
    "            \n",
    "            if coup == 0:\n",
    "                self.disc_factors[T] = 1.0 / (1.0 + (1.0 - price)*T)\n",
    "                #print(self.disc_factors.values())\n",
    "    \n",
    "    def __get_longdated_df__(self):\n",
    "        #for T in self.instr:  #goes from 0.25, 0.50 straight to 2 skipping T = 1\n",
    "        for T in self.sort_instr():\n",
    "            \n",
    "            #(par, coup, price, freq) = self.instr[T]\n",
    "            instrument = self.instr[T]\n",
    "            (par, coup, price, freq) = instrument  #without this; NameError: name 'coup' is not defined\n",
    "            \n",
    "            '''there is no need to 'bootstrap' for non coupon bearing instruments so by definition this procedure starts\n",
    "            at T = 1yr. Year1 disc_factor is simply 1/1+ rate_y1 \n",
    "            which we access in the dictionary, key = 1, and the 'coup' (ie [1]) column entry of the tuple '''\n",
    "            \n",
    "            self.disc_factors[1] = 1.0 / (1.0 + self.instr[1][1]*365.0/360.0)\n",
    "            if coup != 0:\n",
    "                for i in range(2, T+1):\n",
    "                    sum_coup = 0\n",
    "                    for k in range(1, i):\n",
    "                        sum_coup += self.disc_factors[k] *self.instr[i][1] *365.0 / 360.0\n",
    "                    self.disc_factors[i] = (1 - sum_coup) / (1 + self.instr[i][1]*365.0/360.0)\n",
    "                    \n",
    "            #return self.disc_factors\n",
    "                    \n",
    "    def get_zero_rates(self):\n",
    "        \n",
    "        #converts from discount factor to zero rate\n",
    "        disc_factors = self.get_df() #returns a single list of dfs so use below instead\n",
    "        disc_fact_dict = self.disc_factors #returns a dictionary\n",
    "        zeroes = []\n",
    "        for t, df in sorted(disc_fact_dict.items()):\n",
    "            #zeroes.append(((1.0/df)**(1/t)) -1.0)\n",
    "            self.zero_rates[t] = (((1.0/df)**(1/t)) -1.0)\n",
    "        return(self.zero_rates) #[i] for i in self.zero_rates\n",
    "\n",
    "                                  "
   ]
  },
  {
   "cell_type": "code",
   "execution_count": 167,
   "metadata": {
    "collapsed": false
   },
   "outputs": [
    {
     "data": {
      "text/plain": [
       "{0.25: (1, 0.0, 0.9849, 1),\n",
       " 0.5: (1, 0.0, 0.9837, 1),\n",
       " 1: (1, 0.016490000000000001, 1, 1),\n",
       " 2: (1, 0.018141000000000001, 1, 1),\n",
       " 3: (1, 0.019137999999999999, 1, 1),\n",
       " 4: (1, 0.019858000000000001, 1, 1),\n",
       " 5: (1, 0.020445000000000001, 1, 1),\n",
       " 6: (1, 0.020996999999999998, 1, 1),\n",
       " 7: (1, 0.021498, 1, 1),\n",
       " 8: (1, 0.021977000000000003, 1, 1),\n",
       " 9: (1, 0.022395000000000002, 1, 1),\n",
       " 10: (1, 0.022770000000000002, 1, 1),\n",
       " 11: (1, 0.023170000000000003, 1, 1),\n",
       " 12: (1, 0.023445000000000001, 1, 1),\n",
       " 13: (1, 0.023800666666666668, 1, 1),\n",
       " 14: (1, 0.023485333333333334, 1, 1),\n",
       " 15: (1, 0.024115999999999999, 1, 1),\n",
       " 16: (1, 0.0234858, 1, 1),\n",
       " 17: (1, 0.023485333333333334, 1, 1),\n",
       " 18: (1, 0.0241174, 1, 1),\n",
       " 19: (1, 0.024433200000000002, 1, 1),\n",
       " 20: (1, 0.024749, 1, 1),\n",
       " 21: (1, 0.024799, 1, 1),\n",
       " 22: (1, 0.024849000000000003, 1, 1),\n",
       " 23: (1, 0.024899, 1, 1),\n",
       " 24: (1, 0.024949000000000002, 1, 1),\n",
       " 25: (1, 0.024999000000000004, 1, 1),\n",
       " 26: (1, 0.025009400000000005, 1, 1),\n",
       " 27: (1, 0.025019800000000002, 1, 1),\n",
       " 28: (1, 0.025030200000000002, 1, 1),\n",
       " 29: (1, 0.0250406, 1, 1),\n",
       " 30: (1, 0.025051, 1, 1)}"
      ]
     },
     "execution_count": 167,
     "metadata": {},
     "output_type": "execute_result"
    }
   ],
   "source": [
    "curve = GetDiscFactors()\n",
    "curve.add_instr(1, 0.25, 0., 0.9849)      # T = 0.25,   element 0\n",
    "curve.add_instr(1, 0.50 , 0., 0.9837)     #  T = 0.50  element 1\n",
    "\n",
    "#if yuo dont' have access to a data feed, just overwrite the \"USSA.iloc[0,n] below with actual swap rates\n",
    "\n",
    "curve.add_instr(1, 1, USSA.iloc[0,0], 1)  #Year 1   \n",
    "curve.add_instr(1, 2, USSA.iloc[0,1], 1) #Year 2   \n",
    "curve.add_instr(1, 3, USSA.iloc[0,2], 1) #Year 3  \n",
    "curve.add_instr(1, 4, USSA.iloc[0,3], 1) #Year 4  \n",
    "curve.add_instr(1, 5, USSA.iloc[0,4], 1) #Year 5  \n",
    "curve.add_instr(1, 6, USSA.iloc[0,5], 1) #Year 6  \n",
    "curve.add_instr(1, 7, USSA.iloc[0,6], 1) #Year 7  \n",
    "curve.add_instr(1, 8, USSA.iloc[0,7], 1) #Year 8  \n",
    "curve.add_instr(1, 9, USSA.iloc[0,8], 1) #Year 9  \n",
    "curve.add_instr(1, 10, USSA.iloc[0,9], 1) #Year 10  \n",
    "curve.add_instr(1, 11, USSA.iloc[0,10], 1) #Year 11 \n",
    "curve.add_instr(1, 12, USSA.iloc[0,11], 1) #Year 12 \n",
    "curve.add_instr(1, 15, USSA.iloc[0,12], 1) #Year 15\n",
    "curve.add_instr(1, 20, USSA.iloc[0,13], 1) #Year 20 \n",
    "curve.add_instr(1, 25, USSA.iloc[0,14], 1) #Year 25\n",
    "curve.add_instr(1, 30, USSA.iloc[0,15], 1) #Year 30 '''\n",
    "\n",
    "\n",
    "x = sorted(curve.instr.keys())\n",
    "y = [curve.instr[i][1] for i in curve.instr]\n",
    "\n",
    "\n",
    "us13 = np.interp(13, x, y)\n",
    "curve.add_instr(1, 13, us13, 1) #Year 13   \n",
    "us14 = np.interp(14, x, y)\n",
    "curve.add_instr(1, 14, us14, 1) #Year 14 \n",
    "\n",
    "us16 = np.interp(16, x, y)\n",
    "curve.add_instr(1, 16, us16, 1) #Year 16 \n",
    "us17 = np.interp(17, x, y)\n",
    "curve.add_instr(1, 17, us14, 1) #Year 17 \n",
    "us18 = np.interp(18, x, y)\n",
    "curve.add_instr(1, 18, us18, 1) #Year 18 \n",
    "us19 = np.interp(19, x, y)\n",
    "curve.add_instr(1, 19, us19, 1) #Year 19\n",
    "\n",
    "us21 = np.interp(21, x, y)\n",
    "curve.add_instr(1, 21, us21, 1) #Year 21\n",
    "us22 = np.interp(22, x, y)\n",
    "curve.add_instr(1, 22, us22, 1) #Year 22\n",
    "us23 = np.interp(23, x, y)\n",
    "curve.add_instr(1, 23, us23, 1) #Year 23\n",
    "us24 = np.interp(24, x, y)\n",
    "curve.add_instr(1, 24, us24, 1) #Year 24\n",
    "us26= np.interp(26, x, y)\n",
    "curve.add_instr(1, 26, us26, 1) #Year 26\n",
    "us27 = np.interp(27, x, y)\n",
    "curve.add_instr(1, 27, us27, 1) #Year 27\n",
    "us28 = np.interp(28, x, y)\n",
    "curve.add_instr(1, 28, us28, 1) #Year 28\n",
    "us29 = np.interp(29, x, y)\n",
    "curve.add_instr(1, 29, us29, 1) #Year 29\n",
    "\n",
    "\n",
    "curve.instr"
   ]
  },
  {
   "cell_type": "code",
   "execution_count": 206,
   "metadata": {
    "collapsed": false
   },
   "outputs": [
    {
     "name": "stdout",
     "output_type": "stream",
     "text": [
      "{0.25: 0.015185719137518205, 0.5: 0.0163664225000002, 2: 0.01840837829621611, 3: 0.019434451660755858, 4: 0.020180097564319599, 5: 0.020792425332917475, 6: 0.021373820157610357, 1: 0.016719027777777784, 8: 0.022420306508892596, 9: 0.02287228896075999, 10: 0.023281112715791696, 11: 0.023724215961580697, 12: 0.024026570248383949, 13: 0.024429603896409802, 14: 0.024029069921854829, 15: 0.024784270010276721, 16: 0.02398536944222851, 17: 0.023974590151643937, 18: 0.024765852921055709, 19: 0.025158436101466286, 20: 0.025556521890493622, 21: 0.025601663125928376, 22: 0.025649015467278158, 23: 0.025698401674191462, 24: 0.025749678126054443, 25: 0.025802728282431353, 26: 0.025800191980085874, 27: 0.025798997434665738, 28: 0.025799020280039997, 29: 0.025800153844306006, 30: 0.025802306216836435, 7: 0.021906129766189331}\n"
     ]
    }
   ],
   "source": [
    "#check output! below returns dictionary of disc_factors and zero rates\n",
    "print(curve.disc_factors)\n",
    "print(curve.zero_rates)"
   ]
  },
  {
   "cell_type": "code",
   "execution_count": 207,
   "metadata": {
    "collapsed": false
   },
   "outputs": [],
   "source": [
    "x = curve.sort_instr()\n",
    "y = curve.get_df()\n",
    "plt.plot(x,y)\n",
    "plt.title(\"Discount Factors from IRS\")\n",
    "plt.xlabel(\"Tenor\")\n",
    "plt.ylabel(\"Discount Factors\")\n",
    "plt.grid('on')\n",
    "\n",
    "#set limits\n",
    "plt.xlim(0,31)\n",
    "plt.ylim(0, 1.2)\n",
    "\n",
    "plt.show()"
   ]
  },
  {
   "cell_type": "code",
   "execution_count": 36,
   "metadata": {
    "collapsed": false
   },
   "outputs": [
    {
     "name": "stdout",
     "output_type": "stream",
     "text": [
      "[0, 1, 2, 3]\n"
     ]
    },
    {
     "data": {
      "text/plain": [
       "[0.9842219381101561,\n",
       " 0.9646737217730607,\n",
       " 0.9441196809193477,\n",
       " 0.9230443855435724,\n",
       " 0.9015956710035242]"
      ]
     },
     "execution_count": 36,
     "metadata": {},
     "output_type": "execute_result"
    }
   ],
   "source": [
    "'''scrap paper'''\n",
    "#0.016031,  Y1\n",
    "#0.017877999999999998,  Y2\n",
    "#0.019050999999999998,  Y3\n",
    "#0.019889999999999998,   Y4\n",
    "#0.020573000000000001)' Y5\n",
    "\n",
    "df1 = (1 - 0.0)/ (1 + USSA.iloc[0,0]*365/360)\n",
    "\n",
    "df2 = (1 - df1 * USSA.iloc[0, 1]*365/360)  / (1 + USSA.iloc[0,1]*365/360)\n",
    "\n",
    "df3 = (1 - ((df1 + df2)* USSA.iloc[0, 2]*365/360))  / (1 + USSA.iloc[0,2]*365/360)\n",
    "\n",
    "df4 = (1 - ((df1 + df2 + df3) * USSA.iloc[0, 3]*365/360)) / (1 + USSA.iloc[0,3]*365/360)\n",
    "       \n",
    "df5 = (1 - ((df1 + df2 + df3 + df4)* USSA.iloc[0, 4]*365/360)) / (1 + USSA.iloc[0,4]*365/360)\n",
    "\n",
    "df_tuple = df1, df2, df3, df4, df5\n",
    "\n",
    "year = 1\n",
    "\n",
    "for i in df_tuple:\n",
    "    \n",
    "    print('year '+str(year)+ ' '  + str(i) )\n",
    "    year += 1\n",
    "\n",
    "\n",
    "sumcoup2 = (df1) * 0.017877999999999998\n",
    "sumcoup3 = (df1 + df2 ) * 0.019050999999999998\n",
    "sumcoup4 = (df1 + df2 + df3)* 0.019889999999999998\n",
    "sumcoup2 , sumcoup3, sumcoup4\n"
   ]
  },
  {
   "cell_type": "code",
   "execution_count": null,
   "metadata": {
    "collapsed": true
   },
   "outputs": [],
   "source": [
    "#THIS WORKS PERFECTLY\n",
    "def get_df_list(n):\n",
    "    \n",
    "    '''\n",
    "    (rate_n)*df1 + (rate_n)*df2 ...+ (1+ rate_n)*df_n = $1 \n",
    "    Thus  df_n =  ($1 - sum(from 1 to n-1) *df[1 to n-1]  * r[n] )  / (1 + rate_n)'''\n",
    "    \n",
    "    rates = [0.016031, 0.017877999999999998, 0.019050999999999998,0.019889999999999998, 0.0205730000000000]\n",
    "    \n",
    "    df = [] #initiailze\n",
    "   \n",
    "    #populate 1st year discount factor \n",
    "    df.insert(0, 1/(1+rates[0]))\n",
    "    \n",
    "    for i in range(1, len(rates)):\n",
    "        sum_df = 0\n",
    "        j_vec = []\n",
    "        #for j in range(0, len(rates)-1): #IndexError: list index out of range\n",
    "        for j in range(0, i):\n",
    "            j_vec.append(j)\n",
    "            sum_df +=  df[j] * rates[i]*(365/360)    \n",
    "        df.append((1-sum_df)/(1+rates[i]*365/360))\n",
    "    print(j_vec)\n",
    "         \n",
    "    return(df)\n",
    "        \n",
    "get_df_list(3)"
   ]
  },
  {
   "cell_type": "code",
   "execution_count": 37,
   "metadata": {
    "collapsed": false
   },
   "outputs": [
    {
     "data": {
      "text/plain": [
       "{1: 0.9842219381101561,\n",
       " 2: 0.9646737217730607,\n",
       " 3: 0.9441196809193477,\n",
       " 4: 0.9230443855435724,\n",
       " 5: 0.9015956710035242}"
      ]
     },
     "execution_count": 37,
     "metadata": {},
     "output_type": "execute_result"
    }
   ],
   "source": [
    "def get_df_dictio(n):\n",
    "    \n",
    "    rates_keys = [1, 2, 3, 4, 5]\n",
    "    rates_val = [0.016031, 0.017877999999999998, 0.019050999999999998,0.019889999999999998, 0.0205730000000000]\n",
    "    zipped = list(zip(rates_keys, rates_val))\n",
    "    rates = dict(zipped)\n",
    "    (coup) = rates\n",
    "    \n",
    "    #populate 1st year discount factor \n",
    "    df = {}\n",
    "    df[1] = 1/(1+rates[1])\n",
    "    \n",
    "    for i in range(2, len(rates)+1):\n",
    "        sum_df = 0\n",
    "        #print('i '+str(n))\n",
    "        \n",
    "        for j in range(1, i):\n",
    "            #print(j)\n",
    "            #print('df[j] '+str(df[j]))\n",
    "            sum_df +=  df[j] * rates[i]*(365/360)    \n",
    "        df[i] = ((1-sum_df)/(1+rates[i]*365/360))\n",
    "        \n",
    "    return(df)\n",
    "        \n",
    "get_df_dictio(6)"
   ]
  },
  {
   "cell_type": "code",
   "execution_count": 51,
   "metadata": {
    "collapsed": false
   },
   "outputs": [
    {
     "data": {
      "text/plain": [
       "{1: (1, 0.016031, 1, 1),\n",
       " 2: (1, 0.017877999999999998, 1, 1),\n",
       " 3: (1, 0.019051, 1, 1),\n",
       " 4: (1, 0.019889999999999998, 1, 1)}"
      ]
     },
     "execution_count": 51,
     "metadata": {},
     "output_type": "execute_result"
    }
   ],
   "source": [
    "dictio = {}\n",
    "def add_instr2(par, T, coup, price, freq = 1):\n",
    "    dictio[T] = (par, coup, price, freq)\n",
    "    \n",
    "add_instr2(1, 1, 0.016031, 1)  #Year 1   \n",
    "add_instr2(1, 2, 0.017877999999999998, 1) #Year 2   \n",
    "add_instr2(1, 3, 0.019050999999999998, 1) #Year 3  \n",
    "add_instr2(1, 4, 0.019889999999999998, 1) #Year 4\n",
    "dictio\n"
   ]
  },
  {
   "cell_type": "code",
   "execution_count": 56,
   "metadata": {
    "collapsed": false
   },
   "outputs": [
    {
     "data": {
      "text/plain": [
       "0.017877999999999998"
      ]
     },
     "execution_count": 56,
     "metadata": {},
     "output_type": "execute_result"
    }
   ],
   "source": [
    "dictio[2][1]"
   ]
  },
  {
   "cell_type": "code",
   "execution_count": 59,
   "metadata": {
    "collapsed": false
   },
   "outputs": [
    {
     "name": "stdout",
     "output_type": "stream",
     "text": [
      "1\n",
      "1\n",
      "1\n"
     ]
    }
   ],
   "source": [
    "for i in range(1,len(dictio)):\n",
    "    print(dictio[i][2])"
   ]
  },
  {
   "cell_type": "code",
   "execution_count": 91,
   "metadata": {
    "collapsed": false
   },
   "outputs": [],
   "source": [
    "from scipy import interpolate\n",
    "import matplotlib.pyplot as plt\n",
    "import numpy as np"
   ]
  },
  {
   "cell_type": "code",
   "execution_count": 97,
   "metadata": {
    "collapsed": false
   },
   "outputs": [],
   "source": [
    "x = np.arange(0, 10)\n",
    "x\n",
    "f = interpolate.interp1d(x, y)"
   ]
  },
  {
   "cell_type": "code",
   "execution_count": 94,
   "metadata": {
    "collapsed": false
   },
   "outputs": [
    {
     "data": {
      "text/plain": [
       "array([  1.00000000e+00,   2.71828183e+00,   7.38905610e+00,\n",
       "         2.00855369e+01,   5.45981500e+01,   1.48413159e+02,\n",
       "         4.03428793e+02,   1.09663316e+03,   2.98095799e+03,\n",
       "         8.10308393e+03])"
      ]
     },
     "execution_count": 94,
     "metadata": {},
     "output_type": "execute_result"
    }
   ],
   "source": [
    "y = np.exp(x)\n",
    "y"
   ]
  },
  {
   "cell_type": "code",
   "execution_count": 99,
   "metadata": {
    "collapsed": false
   },
   "outputs": [
    {
     "data": {
      "text/plain": [
       "[<matplotlib.lines.Line2D at 0x1bd1d2c4dd8>,\n",
       " <matplotlib.lines.Line2D at 0x1bd1d2c4f60>]"
      ]
     },
     "execution_count": 99,
     "metadata": {},
     "output_type": "execute_result"
    }
   ],
   "source": [
    "xnew = np.arange(0, 9, 0.1)\n",
    "xnew\n",
    "ynew = f(xnew)\n",
    "ynew\n",
    "plt.plot(x, y, 'o', xnew, ynew, '-')"
   ]
  },
  {
   "cell_type": "code",
   "execution_count": 100,
   "metadata": {
    "collapsed": true
   },
   "outputs": [],
   "source": [
    "plt.show()"
   ]
  },
  {
   "cell_type": "code",
   "execution_count": null,
   "metadata": {
    "collapsed": true
   },
   "outputs": [],
   "source": []
  }
 ],
 "metadata": {
  "kernelspec": {
   "display_name": "Python 3",
   "language": "python",
   "name": "python3"
  },
  "language_info": {
   "codemirror_mode": {
    "name": "ipython",
    "version": 3
   },
   "file_extension": ".py",
   "mimetype": "text/x-python",
   "name": "python",
   "nbconvert_exporter": "python",
   "pygments_lexer": "ipython3",
   "version": "3.5.1"
  }
 },
 "nbformat": 4,
 "nbformat_minor": 0
}
